{
 "cells": [
  {
   "cell_type": "markdown",
   "metadata": {},
   "source": [
    "# Reconocimiento de dígitos usando preceptrones simples\n",
    "El siguiente ejercicio esta en el libro: [Una aproximación práctica a las redes neuronales artificiales - Pag. 58](http://bibliotecadigital.univalle.edu.co/bitstream/10893/10330/3/Una%20aproximacion%20practica.pdf)"
   ]
  },
  {
   "cell_type": "code",
   "execution_count": 1,
   "metadata": {},
   "outputs": [],
   "source": [
    "import random\n",
    "class Perceptron(object):\n",
    "    def __init__(self, X, D, weights, bias, max_iter=10000):\n",
    "        self.weights = weights\n",
    "        self.bias = bias\n",
    "        self.X = X\n",
    "        self.D = D\n",
    "        self.max_iter = max_iter\n",
    "        self.__train()\n",
    "    \n",
    "    def __product_point(self, values, weights):\n",
    "        return sum(value * weight for value, weight in zip(values, weights))\n",
    "\n",
    "    def __hardlim(self, r):\n",
    "        return 1 if r > 0 else 0\n",
    "    \n",
    "    def __train(self):\n",
    "        for n in range(4):   \n",
    "            count = 0\n",
    "            while count<self.max_iter:\n",
    "                count+=1\n",
    "                error_counter = 0\n",
    "                for entry_vector, desired_output in zip(self.X,self.D):\n",
    "                    result = self.__hardlim(self.__product_point(entry_vector, self.weights[n]) + self.bias[n])\n",
    "                    if desired_output[n] != result:\n",
    "                        error_counter += 1\n",
    "                        error = desired_output[n] - result\n",
    "                        for i, value in enumerate(entry_vector):\n",
    "                            self.weights[n][i] += error * value\n",
    "                        self.bias[n]+=error\n",
    "                if error_counter == 0:\n",
    "                    break\n",
    "        print('Completado!!!')\n",
    "\n",
    "    def predict(self, values):\n",
    "        return [str(self.__hardlim(self.__product_point(values, self.weights[i]) + self.bias[i])) for i in range(4)]\n",
    "    \n",
    "    def get_bias(self):\n",
    "        return self.bias\n",
    "    \n",
    "    def get_weights(self):\n",
    "        return self.weights"
   ]
  },
  {
   "cell_type": "code",
   "execution_count": 2,
   "metadata": {},
   "outputs": [
    {
     "name": "stdout",
     "output_type": "stream",
     "text": [
      "Completado!!!\n"
     ]
    }
   ],
   "source": [
    "# vector de patrones matriz 15x9\n",
    "X1=[(1, 1, 1, 1, 0, 1, 1, 0, 1, 1, 0, 1, 1, 1, 1),\n",
    "   (0, 0, 1, 0, 0, 1, 0, 0, 1, 0, 0, 1, 0, 0, 1),\n",
    "   (1, 1, 1, 0, 0, 1, 1, 1, 1, 1, 0, 0, 1, 1, 1),\n",
    "   (1, 1, 1, 0, 0, 1, 0, 1, 1, 0, 0, 1, 1, 1, 1),\n",
    "   (1, 0, 1, 1, 0, 1, 1, 1, 1, 0, 0, 1, 0, 0, 1),\n",
    "   (1, 1, 1, 1, 0, 0, 1, 1, 1, 0, 0, 1, 1, 1, 1),\n",
    "   (1, 1, 1, 1, 0, 0, 1, 1, 1, 1, 0, 1, 1, 1, 1),\n",
    "   (1, 1, 1, 0, 0, 1, 0, 0, 1, 0, 0, 1, 0, 0, 1),\n",
    "   (1, 1, 1, 1, 0, 1, 1, 1, 1, 1, 0, 1, 1, 1, 1),\n",
    "   (1, 1, 1, 1, 0, 1, 1, 1, 1, 0, 0, 1, 1, 1, 1)] \n",
    "# vector de salidas deseadas matriz 4x15\n",
    "D1=[(0, 0, 0, 0),\n",
    "    (0, 0, 0, 1),\n",
    "    (0, 0, 1, 0),\n",
    "    (0, 0, 1, 1),\n",
    "    (0, 1, 0, 0),\n",
    "    (0, 1, 0, 1),\n",
    "    (0, 1, 1, 0),\n",
    "    (0, 1, 1, 1),\n",
    "    (1, 0, 0, 0),\n",
    "    (1, 0, 0, 1)]\n",
    "weights1 = [[random.random()  for j in range(15)] for i in range(4)] # vector de pesos matriz 4x15\n",
    "bias1 = [random.random()  for i in range(4)] # vector de bias 4x1\n",
    "p1 = Perceptron(X1,D1,weights=weights1,bias=bias1)\n",
    "#print('Entrenamiento:',list(zip(X1,D1)))\n",
    "#print('Prueba       :',list(zip(X1,[p1.predict(i) for i in X1])))\n",
    "#print('Bias         :',p1.get_bias())\n",
    "#print('Pesos        :',p1.get_weights())"
   ]
  },
  {
   "cell_type": "code",
   "execution_count": 3,
   "metadata": {},
   "outputs": [
    {
     "name": "stdout",
     "output_type": "stream",
     "text": [
      "['1', '0', '0', '0']\n"
     ]
    },
    {
     "data": {
      "text/plain": [
       "8"
      ]
     },
     "execution_count": 3,
     "metadata": {},
     "output_type": "execute_result"
    }
   ],
   "source": [
    "q = p1.predict(((\n",
    "    1, 1, 1,\n",
    "    1, 0, 1, \n",
    "    1, 1, 1, \n",
    "    1, 0, 1, \n",
    "    1, 1, 1)))\n",
    "print(q)\n",
    "int(\"\".join(q),2)"
   ]
  }
 ],
 "metadata": {
  "kernelspec": {
   "display_name": "Python 3",
   "language": "python",
   "name": "python3"
  },
  "language_info": {
   "codemirror_mode": {
    "name": "ipython",
    "version": 3
   },
   "file_extension": ".py",
   "mimetype": "text/x-python",
   "name": "python",
   "nbconvert_exporter": "python",
   "pygments_lexer": "ipython3",
   "version": "3.5.2"
  }
 },
 "nbformat": 4,
 "nbformat_minor": 2
}
