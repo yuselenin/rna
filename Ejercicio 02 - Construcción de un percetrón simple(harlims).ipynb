{
 "cells": [
  {
   "cell_type": "code",
   "execution_count": 1,
   "metadata": {},
   "outputs": [],
   "source": [
    "import random\n",
    "class Perceptron(object):\n",
    "    def __init__(self, X, D, weights, bias):\n",
    "        self.weights = weights\n",
    "        self.bias = bias\n",
    "        self.X = X\n",
    "        self.D = D\n",
    "        self.__train()\n",
    "    \n",
    "    def __product_point(self, values, weights):\n",
    "        return sum(value * weight for value, weight in zip(values, weights))\n",
    "\n",
    "    def __hardlims(self, r):\n",
    "        return 1 if r > 0 else -1\n",
    "    \n",
    "    def __train(self):\n",
    "        while True:\n",
    "            print('-' * 30)\n",
    "            error_counter = 0\n",
    "            for entry_vector, desired_output in zip(self.X,self.D):\n",
    "                print(self.weights)\n",
    "                result = self.__hardlims(self.__product_point(entry_vector, self.weights) + self.bias)\n",
    "                if desired_output != result:\n",
    "                    error = desired_output - result\n",
    "                    error_counter += 1\n",
    "                    for i, value in enumerate(entry_vector):\n",
    "                        self.weights[i] += error * value\n",
    "                    self.bias+=error\n",
    "            if error_counter == 0:\n",
    "                break\n",
    "        print('Completado!!!')\n",
    "    def predict(self, values):\n",
    "        return self.__hardlims(self.__product_point(values, self.weights) + self.bias)\n",
    "    \n",
    "    def get_bias(self):\n",
    "\n",
    "        return self.bias\n",
    "    \n",
    "    def get_weights(self):\n",
    "        return self.weights"
   ]
  },
  {
   "cell_type": "code",
   "execution_count": 2,
   "metadata": {},
   "outputs": [
    {
     "name": "stdout",
     "output_type": "stream",
     "text": [
      "------------------------------\n",
      "[0.5, -0.7]\n",
      "[0.5, -0.7]\n",
      "[4.5, 11.3]\n",
      "[4.5, 11.3]\n",
      "[0.5, 9.3]\n",
      "[2.5, 7.300000000000001]\n",
      "------------------------------\n",
      "[2.5, 7.300000000000001]\n",
      "[2.5, 7.300000000000001]\n",
      "[2.5, 7.300000000000001]\n",
      "[2.5, 7.300000000000001]\n",
      "[-1.5, 5.300000000000001]\n",
      "[0.5, 3.3000000000000007]\n",
      "------------------------------\n",
      "[0.5, 3.3000000000000007]\n",
      "[10.5, 1.3000000000000007]\n",
      "[10.5, 1.3000000000000007]\n",
      "[10.5, 1.3000000000000007]\n",
      "[6.5, -0.6999999999999993]\n",
      "[6.5, -0.6999999999999993]\n",
      "------------------------------\n",
      "[4.5, 3.3000000000000007]\n",
      "[4.5, 3.3000000000000007]\n",
      "[4.5, 3.3000000000000007]\n",
      "[4.5, 3.3000000000000007]\n",
      "[0.5, 1.3000000000000007]\n",
      "[0.5, 1.3000000000000007]\n",
      "------------------------------\n",
      "[0.5, 1.3000000000000007]\n",
      "[10.5, -0.6999999999999993]\n",
      "[10.5, -0.6999999999999993]\n",
      "[10.5, -0.6999999999999993]\n",
      "[6.5, -2.6999999999999993]\n",
      "[6.5, -2.6999999999999993]\n",
      "------------------------------\n",
      "[4.5, 1.3000000000000007]\n",
      "[4.5, 1.3000000000000007]\n",
      "[4.5, 1.3000000000000007]\n",
      "[4.5, 1.3000000000000007]\n",
      "[4.5, 1.3000000000000007]\n",
      "[4.5, 1.3000000000000007]\n",
      "Completado!!!\n"
     ]
    }
   ],
   "source": [
    "bias = 0.5\n",
    "weights = [0.5, -0.7]\n",
    "X = [(5, -1),\n",
    "     (2, 6),\n",
    "     (3, 3),\n",
    "     (2, 1),\n",
    "     (-1, 1),\n",
    "     (1, -2)]\n",
    "D = [1,1,1,-1,-1,-1]\n",
    "p1 = Perceptron(X,D,weights=weights, bias=bias)\n"
   ]
  },
  {
   "cell_type": "code",
   "execution_count": 3,
   "metadata": {},
   "outputs": [
    {
     "data": {
      "text/plain": [
       "[1, 1, 1, -1, -1, -1]"
      ]
     },
     "execution_count": 3,
     "metadata": {},
     "output_type": "execute_result"
    }
   ],
   "source": [
    "[p1.predict(i) for i in X]"
   ]
  },
  {
   "cell_type": "code",
   "execution_count": 4,
   "metadata": {},
   "outputs": [
    {
     "data": {
      "text/plain": [
       "-1"
      ]
     },
     "execution_count": 4,
     "metadata": {},
     "output_type": "execute_result"
    }
   ],
   "source": [
    "p1.predict([1,1])"
   ]
  },
  {
   "cell_type": "code",
   "execution_count": 5,
   "metadata": {},
   "outputs": [
    {
     "data": {
      "text/plain": [
       "-11.5"
      ]
     },
     "execution_count": 5,
     "metadata": {},
     "output_type": "execute_result"
    }
   ],
   "source": [
    "p1.get_bias()"
   ]
  },
  {
   "cell_type": "code",
   "execution_count": 6,
   "metadata": {},
   "outputs": [
    {
     "data": {
      "text/plain": [
       "[4.5, 1.3000000000000007]"
      ]
     },
     "execution_count": 6,
     "metadata": {},
     "output_type": "execute_result"
    }
   ],
   "source": [
    "p1.get_weights()"
   ]
  }
 ],
 "metadata": {
  "kernelspec": {
   "display_name": "Python 3",
   "language": "python",
   "name": "python3"
  },
  "language_info": {
   "codemirror_mode": {
    "name": "ipython",
    "version": 3
   },
   "file_extension": ".py",
   "mimetype": "text/x-python",
   "name": "python",
   "nbconvert_exporter": "python",
   "pygments_lexer": "ipython3",
   "version": "3.5.2"
  }
 },
 "nbformat": 4,
 "nbformat_minor": 2
}
