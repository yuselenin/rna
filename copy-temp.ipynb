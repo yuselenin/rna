{
 "cells": [
  {
   "cell_type": "code",
   "execution_count": 2,
   "metadata": {},
   "outputs": [
    {
     "name": "stdout",
     "output_type": "stream",
     "text": [
      "[[0.79797178]\n",
      " [0.83026496]\n",
      " [0.86069033]\n",
      " [0.88122616]]\n",
      "[[0.01652047]\n",
      " [0.9848409 ]\n",
      " [0.98378407]\n",
      " [0.01504736]]\n"
     ]
    }
   ],
   "source": [
    "#!/usr/bin/python\n",
    "\n",
    "import numpy as np\n",
    "\n",
    "def sigmoid(x):\n",
    "\treturn 1.0/(1.0 + np.exp(-x))\n",
    "\n",
    "def sigmoid_der(x):\n",
    "\treturn x*(1.0 - x)\n",
    "\n",
    "class NN:\n",
    "    def __init__(self, inputs):\n",
    "        self.inputs = inputs\n",
    "        self.l=len(self.inputs)\n",
    "        self.li=len(self.inputs[0])\n",
    "\n",
    "        self.wi=np.random.random((self.li, self.l))\n",
    "        self.wh=np.random.random((self.l, 1))\n",
    "\n",
    "    def think(self, inp):\n",
    "        s1=sigmoid(np.dot(inp, self.wi))\n",
    "        s2=sigmoid(np.dot(s1, self.wh))\n",
    "        return s2\n",
    "\n",
    "    def train(self, inputs,outputs, it):\n",
    "        for i in range(it):\n",
    "            l0=inputs\n",
    "            l1=sigmoid(np.dot(l0, self.wi))\n",
    "            l2=sigmoid(np.dot(l1, self.wh))\n",
    "\n",
    "            l2_err=outputs - l2\n",
    "            l2_delta = np.multiply(l2_err, sigmoid_der(l2))\n",
    "\n",
    "            l1_err=np.dot(l2_delta, self.wh.T)\n",
    "            l1_delta=np.multiply(l1_err, sigmoid_der(l1))\n",
    "\n",
    "            self.wh+=np.dot(l1.T, l2_delta)\n",
    "            self.wi+=np.dot(l0.T, l1_delta)\n",
    "\n",
    "inputs=np.array([[0,0], [0,1], [1,0], [1,1] ])\n",
    "outputs=np.array([[0],[1],[1],[0] ])\n",
    "\n",
    "n=NN(inputs)\n",
    "print(n.think(inputs))\n",
    "n.train(inputs, outputs, 10000)\n",
    "print(n.think(inputs))"
   ]
  }
 ],
 "metadata": {
  "kernelspec": {
   "display_name": "Python 3",
   "language": "python",
   "name": "python3"
  },
  "language_info": {
   "codemirror_mode": {
    "name": "ipython",
    "version": 3
   },
   "file_extension": ".py",
   "mimetype": "text/x-python",
   "name": "python",
   "nbconvert_exporter": "python",
   "pygments_lexer": "ipython3",
   "version": "3.5.2"
  }
 },
 "nbformat": 4,
 "nbformat_minor": 2
}
