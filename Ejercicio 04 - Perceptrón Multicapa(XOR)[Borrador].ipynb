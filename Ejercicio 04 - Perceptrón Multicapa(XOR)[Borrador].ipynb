{
 "cells": [
  {
   "cell_type": "code",
   "execution_count": 1,
   "metadata": {},
   "outputs": [],
   "source": [
    "import random\n",
    "class Perceptron(object):\n",
    "    def __init__(self, X, D, weights, bias):\n",
    "        self.weights = weights\n",
    "        self.bias = bias\n",
    "        self.X = X\n",
    "        self.D = D\n",
    "        self.__train()\n",
    "    \n",
    "    def __product_point(self, values, weights):\n",
    "        return sum(value * weight for value, weight in zip(values, weights))\n",
    "\n",
    "    def __hardlim(self, r):\n",
    "        return 1 if r > 0 else 0\n",
    "    \n",
    "    def __train(self):\n",
    "        while True:\n",
    "            print('-' * 30)\n",
    "            error_counter = 0\n",
    "            for entry_vector, desired_output in zip(self.X,self.D):\n",
    "                print(self.weights)\n",
    "                a = self.__hardlim(self.__product_point(entry_vector, self.weights) + self.bias)\n",
    "                if desired_output != a:\n",
    "                    error = desired_output - a\n",
    "                    error_counter += 1\n",
    "                    for i, value in enumerate(entry_vector):\n",
    "                        self.weights[i] += error * value\n",
    "                    self.bias+=error\n",
    "            if error_counter == 0:\n",
    "                break\n",
    "        print('Completado!!!')\n",
    "    def predict(self, values):\n",
    "        return self.__hardlim(self.__product_point(values, self.weights) + self.bias)\n",
    "    \n",
    "    def get_bias(self):\n",
    "        return self.bias\n",
    "    \n",
    "    def get_weights(self):\n",
    "        return self.weights"
   ]
  },
  {
   "attachments": {
    "image.png": {
     "image/png": "[encoded data removed]"
    }
   },
   "cell_type": "markdown",
   "metadata": {},
   "source": [
    "![image.png](attachment:image.png)"
   ]
  },
  {
   "cell_type": "code",
   "execution_count": null,
   "metadata": {},
   "outputs": [],
   "source": [
    "def f():\n",
    "    # primera capa\n",
    "    bias = [random.random() for i in range(3)]\n",
    "    weights = [[random.random(),random.random()] for i in range(3)]\n",
    "    X = [(0, 0),\n",
    "         (0, 1),\n",
    "         (1, 0),\n",
    "         (1, 1),]\n",
    "    \n",
    "    # AND(Salidas deseadas)\n",
    "    D0 = (0,0,0,1)\n",
    "    nn0 = Perceptron(X,D0,weights=weights[i],bias=bias[i])\n",
    "    weights[i] = nn0.get_get_weights()\n",
    "    bias[i] = nn0,get_bias()\n",
    "    \n",
    "    #OR(Salidas deseadas)\n",
    "    D1 = (0,1,1,1)\n",
    "    nn1 = Perceptron(X,D1,weights=weights[i],bias=bias[i])\n",
    "    weights[i] = nn1.get_get_weights()\n",
    "    bias[i] = nn1,get_bias()\n",
    "    \n",
    "    # XOR(Salidas deseadas)\n",
    "    D2 = (0,1,1,0)\n",
    "    nn2 = Perceptron(X,D2,weights=weights[2],bias=bias[2])\n",
    "    weights[2] = nn3.get_get_weights()\n",
    "    bias[2] = nn3.get_bias()\n",
    "    print('Prueba0:',list(zip(X,[nn0.predict(i) for i in X1])))\n",
    "    print('Prueba1:',list(zip(X,[nn1.predict(i) for i in X1])))\n",
    "    print('Prueba2:',list(zip(X,[nn2.predict(i) for i in X1])))\n",
    "    "
   ]
  },
  {
   "cell_type": "code",
   "execution_count": null,
   "metadata": {},
   "outputs": [],
   "source": []
  }
 ],
 "metadata": {
  "kernelspec": {
   "display_name": "Python 3",
   "language": "python",
   "name": "python3"
  },
  "language_info": {
   "codemirror_mode": {
    "name": "ipython",
    "version": 3
   },
   "file_extension": ".py",
   "mimetype": "text/x-python",
   "name": "python",
   "nbconvert_exporter": "python",
   "pygments_lexer": "ipython3",
   "version": "3.5.2"
  }
 },
 "nbformat": 4,
 "nbformat_minor": 2
}
