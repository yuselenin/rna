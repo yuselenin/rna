{
 "cells": [
  {
   "cell_type": "code",
   "execution_count": 11,
   "metadata": {},
   "outputs": [],
   "source": [
    "import numpy as np\n",
    "\n",
    "def sigmoid(x):\n",
    "\treturn 1.0/(1.0 + np.exp(-x))\n",
    "\n",
    "def sigmoid_der(x):\n",
    "\treturn x*(1.0 - x)\n",
    "\n",
    "class NN:\n",
    "    def __init__(self, inputs, outputs, it):\n",
    "        self.inputs = inputs\n",
    "        self.lenght=len(self.inputs)\n",
    "        print(self.lenght)\n",
    "        self.lenght_inputs=len(self.inputs[0])\n",
    "        print(self.lenght_inputs)\n",
    "        self.it = it\n",
    "        self.outputs = outputs\n",
    "        \n",
    "        self.wi=np.random.random((self.lenght_inputs, self.lenght))\n",
    "        print(self.wi)\n",
    "        self.wh=np.random.random((self.lenght, 1))\n",
    "        print(self.wh)\n",
    "        self.train()\n",
    "\n",
    "    def think(self, X):\n",
    "        s1=sigmoid(np.dot(X, self.wi))\n",
    "        s2=sigmoid(np.dot(s1, self.wh))\n",
    "        return s2\n",
    "\n",
    "    def train(self):\n",
    "        for i in range(self.it):\n",
    "            l0=self.inputs\n",
    "            l1=sigmoid(np.dot(l0, self.wi))\n",
    "            l2=sigmoid(np.dot(l1, self.wh))\n",
    "\n",
    "            l2_err=self.outputs - l2\n",
    "            l2_delta = np.multiply(l2_err, sigmoid_der(l2))\n",
    "\n",
    "            l1_err=np.dot(l2_delta, self.wh.T)\n",
    "            l1_delta=np.multiply(l1_err, sigmoid_der(l1))\n",
    "\n",
    "            self.wh+=np.dot(l1.T, l2_delta)\n",
    "            self.wi+=np.dot(l0.T, l1_delta)"
   ]
  },
  {
   "cell_type": "code",
   "execution_count": null,
   "metadata": {},
   "outputs": [],
   "source": []
  },
  {
   "cell_type": "raw",
   "metadata": {},
   "source": []
  },
  {
   "cell_type": "code",
   "execution_count": 12,
   "metadata": {},
   "outputs": [
    {
     "name": "stdout",
     "output_type": "stream",
     "text": [
      "4\n",
      "2\n",
      "[[0.6678141  0.37782884 0.69441251 0.79430183]\n",
      " [0.92774689 0.95048091 0.63025742 0.11741881]]\n",
      "[[0.09602547]\n",
      " [0.24185038]\n",
      " [0.97638144]\n",
      " [0.52672368]]\n"
     ]
    },
    {
     "data": {
      "text/plain": [
       "array([[0.02611329],\n",
       "       [0.98100244],\n",
       "       [0.98181618],\n",
       "       [0.01224575]])"
      ]
     },
     "execution_count": 12,
     "metadata": {},
     "output_type": "execute_result"
    }
   ],
   "source": [
    "X=np.array([[0,0], [0,1], [1,0], [1,1] ]) # Entradas\n",
    "D=np.array([[0],[1],[1],[0] ]) # Salidas deseadas\n",
    "\n",
    "n=NN(X, D, 10000)\n",
    "n.think(inputs)"
   ]
  },
  {
   "cell_type": "code",
   "execution_count": 18,
   "metadata": {},
   "outputs": [
    {
     "data": {
      "text/plain": [
       "array([[0.        , 0.        , 0.        , 0.        ],\n",
       "       [0.92774689, 0.95048091, 0.63025742, 0.11741881],\n",
       "       [0.6678141 , 0.37782884, 0.69441251, 0.79430183],\n",
       "       [1.59556099, 1.32830975, 1.32466993, 0.91172064]])"
      ]
     },
     "execution_count": 18,
     "metadata": {},
     "output_type": "execute_result"
    }
   ],
   "source": [
    "np.dot(X,qq)"
   ]
  },
  {
   "cell_type": "code",
   "execution_count": 13,
   "metadata": {},
   "outputs": [
    {
     "data": {
      "text/plain": [
       "array([[0, 0],\n",
       "       [0, 1],\n",
       "       [1, 0],\n",
       "       [1, 1]])"
      ]
     },
     "execution_count": 13,
     "metadata": {},
     "output_type": "execute_result"
    }
   ],
   "source": [
    "X"
   ]
  },
  {
   "cell_type": "code",
   "execution_count": 17,
   "metadata": {},
   "outputs": [
    {
     "data": {
      "text/plain": [
       "array([[0.6678141 , 0.37782884, 0.69441251, 0.79430183],\n",
       "       [0.92774689, 0.95048091, 0.63025742, 0.11741881]])"
      ]
     },
     "execution_count": 17,
     "metadata": {},
     "output_type": "execute_result"
    }
   ],
   "source": [
    "qq = np.array([[0.6678141,0.37782884,0.69441251,0.79430183],[0.92774689,0.95048091,0.63025742,0.11741881]])\n",
    "qq"
   ]
  },
  {
   "cell_type": "code",
   "execution_count": null,
   "metadata": {},
   "outputs": [],
   "source": []
  }
 ],
 "metadata": {
  "kernelspec": {
   "display_name": "Python 3",
   "language": "python",
   "name": "python3"
  },
  "language_info": {
   "codemirror_mode": {
    "name": "ipython",
    "version": 3
   },
   "file_extension": ".py",
   "mimetype": "text/x-python",
   "name": "python",
   "nbconvert_exporter": "python",
   "pygments_lexer": "ipython3",
   "version": "3.5.2"
  }
 },
 "nbformat": 4,
 "nbformat_minor": 2
}
