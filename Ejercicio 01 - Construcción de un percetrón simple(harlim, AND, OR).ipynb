{
 "cells": [
  {
   "cell_type": "code",
   "execution_count": 1,
   "metadata": {},
   "outputs": [],
   "source": [
    "import random\n",
    "class Perceptron(object):\n",
    "    def __init__(self, X, D, weights, bias):\n",
    "        self.weights = weights\n",
    "        self.bias = bias\n",
    "        self.X = X\n",
    "        self.D = D\n",
    "        self.__train()\n",
    "    \n",
    "    def __product_point(self, values, weights):\n",
    "        return sum(value * weight for value, weight in zip(values, weights))\n",
    "\n",
    "    def __hardlim(self, r):\n",
    "        return 1 if r > 0 else 0\n",
    "    \n",
    "    def __train(self):\n",
    "        while True:\n",
    "            print('-' * 30)\n",
    "            error_counter = 0\n",
    "            for entry_vector, desired_output in zip(self.X,self.D):\n",
    "                print(self.weights)\n",
    "                result = self.__hardlim(self.__product_point(entry_vector, self.weights) + self.bias)\n",
    "                if desired_output != result:\n",
    "                    error = desired_output - result\n",
    "                    error_counter += 1\n",
    "                    for i, value in enumerate(entry_vector):\n",
    "                        self.weights[i] += error * value\n",
    "                    self.bias+=error\n",
    "            if error_counter == 0:\n",
    "                break\n",
    "        print('Completado!!!')\n",
    "    def predict(self, values):\n",
    "        return self.__hardlim(self.__product_point(values, self.weights) + self.bias)\n",
    "    \n",
    "    def get_bias(self):\n",
    "        return self.bias\n",
    "    \n",
    "    def get_weights(self):\n",
    "        return self.weights"
   ]
  },
  {
   "cell_type": "code",
   "execution_count": 2,
   "metadata": {},
   "outputs": [
    {
     "name": "stdout",
     "output_type": "stream",
     "text": [
      "------------------------------\n",
      "[0, 0]\n",
      "[0, 0]\n",
      "[0, 0]\n",
      "[0, 0]\n",
      "------------------------------\n",
      "[1, 1]\n",
      "[1, 1]\n",
      "[1, 0]\n",
      "[1, 0]\n",
      "------------------------------\n",
      "[2, 1]\n",
      "[2, 1]\n",
      "[2, 0]\n",
      "[1, 0]\n",
      "------------------------------\n",
      "[2, 1]\n",
      "[2, 1]\n",
      "[2, 1]\n",
      "[1, 1]\n",
      "------------------------------\n",
      "[2, 2]\n",
      "[2, 2]\n",
      "[2, 1]\n",
      "[2, 1]\n",
      "------------------------------\n",
      "[2, 1]\n",
      "[2, 1]\n",
      "[2, 1]\n",
      "[2, 1]\n",
      "Entrenamiento: [((0, 0), 0), ((0, 1), 0), ((1, 0), 0), ((1, 1), 1)]\n",
      "Prueba       : [((0, 0), 0), ((0, 1), 0), ((1, 0), 0), ((1, 1), 1)]\n",
      "Bias         : -2.9\n",
      "Pesos        : [2, 1]\n"
     ]
    }
   ],
   "source": [
    "# AND\n",
    "bias1 = 0.1\n",
    "weights1 = [0, 0]\n",
    "X1 = [(0, 0),\n",
    "     (0, 1),\n",
    "     (1, 0),\n",
    "     (1, 1),]\n",
    "D1 = (0,0,0,1)\n",
    "p1 = Perceptron(X1,D1,weights=weights1,bias=bias1)\n",
    "print('Entrenamiento:',list(zip(X1,D1)))\n",
    "print('Prueba       :',list(zip(X1,[p1.predict(i) for i in X1])))\n",
    "print('Bias         :',p1.get_bias())\n",
    "print('Pesos        :',p1.get_weights())"
   ]
  },
  {
   "cell_type": "code",
   "execution_count": 3,
   "metadata": {},
   "outputs": [
    {
     "name": "stdout",
     "output_type": "stream",
     "text": [
      "------------------------------\n",
      "[0, 0]\n",
      "[0, 0]\n",
      "[0, 1]\n",
      "[0, 1]\n",
      "------------------------------\n",
      "[0, 1]\n",
      "[0, 1]\n",
      "[0, 1]\n",
      "[1, 1]\n",
      "------------------------------\n",
      "[1, 1]\n",
      "[1, 1]\n",
      "[1, 1]\n",
      "[1, 1]\n",
      "------------------------------\n",
      "[1, 1]\n",
      "[1, 1]\n",
      "[1, 1]\n",
      "[1, 1]\n",
      "Entrenamiento: [((0, 0), 0), ((0, 1), 1), ((1, 0), 1), ((1, 1), 1)]\n",
      "Prueba       : [((0, 0), 0), ((0, 1), 1), ((1, 0), 1), ((1, 1), 1)]\n",
      "Bias         : -0.9\n",
      "Pesos        : [1, 1]\n"
     ]
    }
   ],
   "source": [
    "# OR\n",
    "bias2 = 0.1\n",
    "weights2 = [0, 0]\n",
    "X2 = [(0, 0),\n",
    "     (0, 1),\n",
    "     (1, 0),\n",
    "     (1, 1),]\n",
    "D2 = (0,1,1,1)\n",
    "p2 = Perceptron(X2,D2,weights=weights2,bias=bias2)\n",
    "print('Entrenamiento:',list(zip(X2,D2)))\n",
    "print('Prueba       :',list(zip(X2,[p2.predict(i) for i in X2])))\n",
    "print('Bias         :',p2.get_bias())\n",
    "print('Pesos        :',p2.get_weights())"
   ]
  }
 ],
 "metadata": {
  "kernelspec": {
   "display_name": "Python 3",
   "language": "python",
   "name": "python3"
  },
  "language_info": {
   "codemirror_mode": {
    "name": "ipython",
    "version": 3
   },
   "file_extension": ".py",
   "mimetype": "text/x-python",
   "name": "python",
   "nbconvert_exporter": "python",
   "pygments_lexer": "ipython3",
   "version": "3.5.2"
  }
 },
 "nbformat": 4,
 "nbformat_minor": 2
}
